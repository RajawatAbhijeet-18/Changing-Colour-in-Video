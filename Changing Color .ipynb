{
 "cells": [
  {
   "cell_type": "code",
   "execution_count": 1,
   "id": "8fc5a91c",
   "metadata": {},
   "outputs": [],
   "source": [
    "import numpy as np"
   ]
  },
  {
   "cell_type": "code",
   "execution_count": 2,
   "id": "466f2c51",
   "metadata": {},
   "outputs": [],
   "source": [
    "low_green = np.array([5,25,25])"
   ]
  },
  {
   "cell_type": "code",
   "execution_count": 3,
   "id": "51fcca91",
   "metadata": {},
   "outputs": [],
   "source": [
    "high_green = np.array([15,255,255])"
   ]
  },
  {
   "cell_type": "code",
   "execution_count": 4,
   "id": "868c2a0b",
   "metadata": {},
   "outputs": [],
   "source": [
    "import cv2"
   ]
  },
  {
   "cell_type": "code",
   "execution_count": 5,
   "id": "ef5a50d5",
   "metadata": {},
   "outputs": [],
   "source": [
    "cap = cv2.VideoCapture(0)\n",
    "while True:\n",
    "    cap.isOpened()\n",
    "    ret, photo = cap.read()\n",
    "    photo = cv2.cvtColor(photo, cv2.COLOR_BGR2HSV)\n",
    "    mask = cv2.inRange(photo, low_green, high_green)\n",
    "    cv2.imshow(\"hi\",mask)\n",
    "    if cv2.waitKey(100) & 0xFF == ord('q'):\n",
    "        break\n",
    "\n",
    "cap.release()       \n",
    "cv2.destroyAllWindows()"
   ]
  },
  {
   "cell_type": "code",
   "execution_count": null,
   "id": "4db95f95",
   "metadata": {},
   "outputs": [],
   "source": []
  }
 ],
 "metadata": {
  "kernelspec": {
   "display_name": "Python 3 (ipykernel)",
   "language": "python",
   "name": "python3"
  },
  "language_info": {
   "codemirror_mode": {
    "name": "ipython",
    "version": 3
   },
   "file_extension": ".py",
   "mimetype": "text/x-python",
   "name": "python",
   "nbconvert_exporter": "python",
   "pygments_lexer": "ipython3",
   "version": "3.9.13"
  }
 },
 "nbformat": 4,
 "nbformat_minor": 5
}
